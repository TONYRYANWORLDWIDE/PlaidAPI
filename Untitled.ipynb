{
 "cells": [
  {
   "cell_type": "code",
   "execution_count": 6,
   "metadata": {},
   "outputs": [
    {
     "ename": "AttributeError",
     "evalue": "module 'plaid' has no attribute 'Client'",
     "output_type": "error",
     "traceback": [
      "\u001b[1;31m---------------------------------------------------------------------------\u001b[0m",
      "\u001b[1;31mAttributeError\u001b[0m                            Traceback (most recent call last)",
      "\u001b[1;32m<ipython-input-6-1e0945eb391d>\u001b[0m in \u001b[0;36m<module>\u001b[1;34m\u001b[0m\n\u001b[0;32m     15\u001b[0m             \u001b[0mchase_access_token\u001b[0m \u001b[1;33m=\u001b[0m  \u001b[0mdata\u001b[0m\u001b[1;33m[\u001b[0m\u001b[1;34m'codes'\u001b[0m\u001b[1;33m]\u001b[0m\u001b[1;33m[\u001b[0m\u001b[1;34m'plaid'\u001b[0m\u001b[1;33m]\u001b[0m\u001b[1;33m[\u001b[0m\u001b[1;34m'chase_access_token'\u001b[0m\u001b[1;33m]\u001b[0m\u001b[1;33m\u001b[0m\u001b[1;33m\u001b[0m\u001b[0m\n\u001b[0;32m     16\u001b[0m             \u001b[0mChimeToken\u001b[0m \u001b[1;33m=\u001b[0m  \u001b[0mdata\u001b[0m\u001b[1;33m[\u001b[0m\u001b[1;34m'codes'\u001b[0m\u001b[1;33m]\u001b[0m\u001b[1;33m[\u001b[0m\u001b[1;34m'plaid'\u001b[0m\u001b[1;33m]\u001b[0m\u001b[1;33m[\u001b[0m\u001b[1;34m'ChimeToken'\u001b[0m\u001b[1;33m]\u001b[0m\u001b[1;33m\u001b[0m\u001b[1;33m\u001b[0m\u001b[0m\n\u001b[1;32m---> 17\u001b[1;33m             client = plaid.Client(client_id = self.PLAID_CLIENT_ID, secret=self.PLAID_SECRET,\n\u001b[0m\u001b[0;32m     18\u001b[0m                             public_key=self.PLAID_PUBLIC_KEY, environment=self.PLAID_ENV, api_version='2019-05-29')\n",
      "\u001b[1;31mAttributeError\u001b[0m: module 'plaid' has no attribute 'Client'"
     ]
    }
   ],
   "source": [
    "import os\n",
    "import json\n",
    "import plaid \n",
    "credentials_file = 'C:/Users/tonyr/Desktop/PlaidAPIFInal/credentials.json'\n",
    "with open(credentials_file) as json_file:\n",
    "            data = json.load(json_file)\n",
    "            server =   data['codes']['connectionstring']['server']\n",
    "            user =     data['codes']['connectionstring']['user']\n",
    "            password = data['codes']['connectionstring']['password']\n",
    "            database =  data['codes']['connectionstring']['database']\n",
    "            userid = data['codes']['userid']['id']\n",
    "            PLAID_CLIENT_ID =  data['codes']['plaid']['PLAID_CLIENT_ID']\n",
    "            PLAID_SECRET =  data['codes']['plaid']['PLAID_SECRET']\n",
    "            PLAID_PUBLIC_KEY = data['codes']['plaid']['PLAID_PUBLIC_KEY']\n",
    "            chase_access_token =  data['codes']['plaid']['chase_access_token']\n",
    "            ChimeToken =  data['codes']['plaid']['ChimeToken']\n",
    "            client = plaid.Client(client_id = self.PLAID_CLIENT_ID, secret=self.PLAID_SECRET,\n",
    "                            public_key=self.PLAID_PUBLIC_KEY, environment=self.PLAID_ENV, api_version='2019-05-29')"
   ]
  },
  {
   "cell_type": "code",
   "execution_count": 2,
   "metadata": {},
   "outputs": [],
   "source": []
  }
 ],
 "metadata": {
  "kernelspec": {
   "display_name": "Python 3",
   "language": "python",
   "name": "python3"
  },
  "language_info": {
   "codemirror_mode": {
    "name": "ipython",
    "version": 3
   },
   "file_extension": ".py",
   "mimetype": "text/x-python",
   "name": "python",
   "nbconvert_exporter": "python",
   "pygments_lexer": "ipython3",
   "version": "3.7.1"
  }
 },
 "nbformat": 4,
 "nbformat_minor": 2
}
